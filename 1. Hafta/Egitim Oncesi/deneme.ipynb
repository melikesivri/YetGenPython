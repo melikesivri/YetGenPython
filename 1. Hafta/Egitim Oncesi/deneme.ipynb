{
 "cells": [
  {
   "cell_type": "code",
   "execution_count": 1,
   "metadata": {},
   "outputs": [
    {
     "name": "stdout",
     "output_type": "stream",
     "text": [
      "Hello world\n"
     ]
    }
   ],
   "source": [
    "print(\"Hello world\")"
   ]
  },
  {
   "cell_type": "code",
   "execution_count": 6,
   "metadata": {},
   "outputs": [
    {
     "name": "stdout",
     "output_type": "stream",
     "text": [
      "['Melike', 'Ceren', 'Mehtap']\n",
      "['Eda', 'Melike', 'Ceren', 'Mehtap']\n",
      "['Mehtap', 'Ceren', 'Melike', 'Eda']\n",
      "['Ceren', 'Eda', 'Mehtap', 'Melike']\n"
     ]
    }
   ],
   "source": [
    "liste = [\"Melike\", \"Ceren\", \"Mehtap\", \"Dilara\"]\n",
    "\n",
    "liste.pop()\n",
    "\n",
    "print(liste)\n",
    "\n",
    "liste.insert(0, \"Eda\")\n",
    "print(liste)\n",
    "\n",
    "liste.reverse()\n",
    "print(liste)\n",
    "\n",
    "liste.sort()\n",
    "print(liste)"
   ]
  },
  {
   "cell_type": "code",
   "execution_count": null,
   "metadata": {},
   "outputs": [],
   "source": []
  }
 ],
 "metadata": {
  "kernelspec": {
   "display_name": "Python 3",
   "language": "python",
   "name": "python3"
  },
  "language_info": {
   "codemirror_mode": {
    "name": "ipython",
    "version": 3
   },
   "file_extension": ".py",
   "mimetype": "text/x-python",
   "name": "python",
   "nbconvert_exporter": "python",
   "pygments_lexer": "ipython3",
   "version": "3.11.2"
  },
  "orig_nbformat": 4,
  "vscode": {
   "interpreter": {
    "hash": "8b7907af505ec883d8e7a883e7a3115507ca193547ea1781bf1c79c704ad399c"
   }
  }
 },
 "nbformat": 4,
 "nbformat_minor": 2
}
