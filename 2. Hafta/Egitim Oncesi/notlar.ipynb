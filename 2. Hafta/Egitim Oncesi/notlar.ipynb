{
 "cells": [
  {
   "cell_type": "code",
   "execution_count": 7,
   "metadata": {},
   "outputs": [
    {
     "name": "stdout",
     "output_type": "stream",
     "text": [
      "hello world\n",
      "Helloa Melike\n",
      "Hoşgeldin!"
     ]
    }
   ],
   "source": [
    "print(\"hello world\")\n",
    "\"hello world\"\n",
    "\n",
    "print(\"Hello\", \"Melike\", sep=\"a \")\n",
    "\n",
    "print(\"Hoşgeldin\", end=\"!\")"
   ]
  },
  {
   "cell_type": "code",
   "execution_count": 14,
   "metadata": {},
   "outputs": [
    {
     "name": "stdout",
     "output_type": "stream",
     "text": [
      "Melike\n"
     ]
    }
   ],
   "source": [
    "sayi= \"Melike\"\n",
    "\n",
    "print(sayi)"
   ]
  },
  {
   "cell_type": "code",
   "execution_count": 16,
   "metadata": {},
   "outputs": [
    {
     "name": "stdout",
     "output_type": "stream",
     "text": [
      "M\n"
     ]
    }
   ],
   "source": [
    "degisken = \"Melike\"\n",
    "print(degisken[-6])"
   ]
  },
  {
   "cell_type": "markdown",
   "metadata": {},
   "source": []
  },
  {
   "cell_type": "code",
   "execution_count": null,
   "metadata": {},
   "outputs": [],
   "source": [
    "print(\"hello\")"
   ]
  }
 ],
 "metadata": {
  "kernelspec": {
   "display_name": "Python 3",
   "language": "python",
   "name": "python3"
  },
  "language_info": {
   "codemirror_mode": {
    "name": "ipython",
    "version": 3
   },
   "file_extension": ".py",
   "mimetype": "text/x-python",
   "name": "python",
   "nbconvert_exporter": "python",
   "pygments_lexer": "ipython3",
   "version": "3.11.1"
  },
  "orig_nbformat": 4,
  "vscode": {
   "interpreter": {
    "hash": "8b7907af505ec883d8e7a883e7a3115507ca193547ea1781bf1c79c704ad399c"
   }
  }
 },
 "nbformat": 4,
 "nbformat_minor": 2
}
